{
 "cells": [
  {
   "cell_type": "code",
   "execution_count": 2,
   "id": "f72fb94d",
   "metadata": {},
   "outputs": [],
   "source": [
    "import math\n",
    "import numpy as np\n",
    "import matplotlib.pyplot as plt\n",
    "from matplotlib import collections as mc\n",
    "from matplotlib import tri"
   ]
  },
  {
   "cell_type": "code",
   "execution_count": 3,
   "id": "afe4e323",
   "metadata": {},
   "outputs": [],
   "source": [
    "# Question 4: Cross product\n",
    "\n",
    "# Receives two two-dimensional vectors, a and b, interpreted as three-dimensional vectors lying on the XY plane.\n",
    "# Returns the cross product between them\n",
    "def cross(a,b):\n",
    "    return a[0]*b[1] - a[1]*b[0]\n",
    "\n",
    "# Receives two line segments, ab and cd, on the XY plane and returns if they intercept or not\n",
    "def intersect(a,b,c,d):\n",
    "    ab = np.subtract(b, a)\n",
    "    ac = np.subtract(c, a)\n",
    "    ad = np.subtract(d, a)\n",
    "    \n",
    "    cd = np.subtract(d, c)\n",
    "    ca = np.subtract(a, c)\n",
    "    cb = np.subtract(b, c)\n",
    "    \n",
    "    p1 = cross(ab, ac) * cross(ab, ad)\n",
    "    p2 = cross(cd, ca) * cross(cd, cb)\n",
    "    \n",
    "    return p1 < 0 and p2 < 0\n",
    "\n",
    "# Receives three points, a, b and c, on the XY plane, and returns the oriented area of their parallelogram\n",
    "def oriented_area(a,b,c):\n",
    "    o = np.array([0,0])\n",
    "    \n",
    "    oa = np.subtract(a,o)\n",
    "    ob = np.subtract(b,o)\n",
    "    oc = np.subtract(c,o)\n",
    "    \n",
    "    return 0.5 * (cross(oa, ob) + cross(ob, oc) + cross(oc, oa))"
   ]
  },
  {
   "cell_type": "code",
   "execution_count": 4,
   "id": "842d1d07",
   "metadata": {},
   "outputs": [
    {
     "data": {
      "image/png": "[encoded data removed]",
      "text/plain": [
       "<Figure size 432x288 with 1 Axes>"
      ]
     },
     "metadata": {
      "needs_background": "light"
     },
     "output_type": "display_data"
    }
   ],
   "source": [
    "# Visualize Question 4 results:\n",
    "\n",
    "# Line intersection\n",
    "\n",
    "# Returns color c1 if ab and cd intersect, and color c2 otherwise\n",
    "def get_color(a, b, c, d, c1, c2):\n",
    "    return c1 if intersect(a, b, c, d) else c2\n",
    "\n",
    "a1 = np.array([0,0])\n",
    "a2 = np.array([1,1])\n",
    "\n",
    "b1 = np.array([1,0])\n",
    "b2 = np.array([0,1])\n",
    "\n",
    "c1 = np.array([0,-1])\n",
    "c2 = np.array([1,-1])\n",
    "\n",
    "a = np.array([a1,a2]).reshape((-1,2))\n",
    "b = np.array([b1,b2]).reshape((-1,2))\n",
    "c = np.array([c1,c2]).reshape((-1,2))\n",
    "\n",
    "# Show line segments that intersect with a as red, black otherwise \n",
    "lines = [a, b, c]\n",
    "int_col = [1,0,0,1]\n",
    "nint_col = [0,0,0,1]\n",
    "\n",
    "colors = np.array([int_col, get_color(a1,a2,b1,b2,int_col,nint_col), get_color(a1,a2,c1,c2,int_col,nint_col)])\n",
    "\n",
    "lc = mc.LineCollection(lines, colors=colors)\n",
    "\n",
    "fig, ax = plt.subplots()\n",
    "\n",
    "ax.add_collection(lc)\n",
    "ax.autoscale()\n",
    "ax.margins(0.1)"
   ]
  },
  {
   "cell_type": "code",
   "execution_count": 5,
   "id": "17124b85",
   "metadata": {},
   "outputs": [
    {
     "data": {
      "image/png": "[encoded data removed]",
      "text/plain": [
       "<Figure size 432x288 with 1 Axes>"
      ]
     },
     "metadata": {
      "needs_background": "light"
     },
     "output_type": "display_data"
    }
   ],
   "source": [
    "# Oriented area\n",
    "a = np.array([1,0])\n",
    "b = np.array([2,0.5])\n",
    "c = np.array([1,1])\n",
    "\n",
    "points = np.array([a, b, c]).reshape((3,-1))\n",
    "indices = [[0, 1, 2]]\n",
    "\n",
    "tris = tri.Triangulation(points[:,0], points[:,1], triangles=indices)\n",
    "\n",
    "plt.title(f'Triangle of oriented area {oriented_area(a,b,c)}')\n",
    "lines = plt.triplot(tris)"
   ]
  },
  {
   "cell_type": "code",
   "execution_count": 6,
   "id": "6a7820c2",
   "metadata": {},
   "outputs": [],
   "source": [
    "# Question 5: Point in polygon - Ray technique\n",
    "\n",
    "# Intersection algorithm and rotation index algorithm\n",
    "\n",
    "# Finds the point of intersection between two lines p1p2 and p3p4\n",
    "def line_intersection(p1, p2, p3, p4):\n",
    "    [x1,y1] = [p1[0], p1[1]]\n",
    "    [x2,y2] = [p2[0], p2[1]]\n",
    "    [x3,y3] = [p3[0], p3[1]]\n",
    "    [x4,y4] = [p4[0], p4[1]]\n",
    "    \n",
    "    D = (x1-x2)*(y3-y4) - (y1-y2)*(x3-x4)\n",
    "    \n",
    "    x = ( (x1*y2-y1*x2)*(x3-x4) - (x1-x2)*(x3*y4-y3*x4) ) / D\n",
    "    y = ( (x1*y2-y1*x2)*(y3-y4) - (y1-y2)*(x3*y4-y3*x4) ) / D\n",
    "    \n",
    "    return np.array([x,y])\n",
    "\n",
    "# Returns distance between two points\n",
    "def distance(p1, p2):\n",
    "    [x1,y1] = [p1[0], p1[1]]\n",
    "    [x2,y2] = [p2[0], p2[1]]\n",
    "    \n",
    "    return math.hypot(x2-x1, y2-y1) \n",
    "\n",
    "# Check if point lies on the line\n",
    "def point_in_line(P, a, b):\n",
    "    return math.isclose(distance(a, P) + distance(P, b), distance(a, b))\n",
    "\n",
    "# Receives a point P and a sequence of points p = [p_0, p_1, ... , p_n, p_(n+1)], that forms a closed polygon,\n",
    "# where p_(n+1) == p_1. Returns -1 if outside, 0 if in frontier, 1 if inside\n",
    "def point_in_polygon_intersection(P, p):\n",
    "    n = len(p)-1\n",
    "    #print(n)\n",
    "    N = 0 # Number of intersections\n",
    "    [x0, y0] = [P[0], P[1]]\n",
    "    #print(f'x0 {x0} y0 {y0}')\n",
    "    Pn = np.add(P, [1,0]) # We will test the horizontal line that passes by P\n",
    "    for i in range(0,n):\n",
    "        xi = p[i,0]\n",
    "        yi = p[i,1]\n",
    "        xip1 = p[i+1,0]\n",
    "        yip1 = p[i+1,1]\n",
    "        #print(f'check intersection with lines {p[i]} {p[i+1]}')\n",
    "        \n",
    "        if not math.isclose(yi, yip1): # Is not an horizontal line\n",
    "            [x, y] = line_intersection(p[i], p[i+1], P, Pn) # Check the intersection between test line and one line of the poly\n",
    "            #print(f'line intersection: {x} {y}')\n",
    "            if math.isclose(x, x0): # If the inter point is the same as the test point, itself lies on the polygon frontier\n",
    "                return 0\n",
    "            elif x > x0 and y > min(yi, yip1):\n",
    "                N += 1\n",
    "        elif point_in_line(P, p[i], p[i+1]):\n",
    "            return 0\n",
    "    odd = N % 2 == 1\n",
    "    return 1 if odd else -1"
   ]
  },
  {
   "cell_type": "code",
   "execution_count": 7,
   "id": "c3637576",
   "metadata": {},
   "outputs": [
    {
     "data": {
      "image/png": "[encoded data removed]",
      "text/plain": [
       "<Figure size 432x288 with 2 Axes>"
      ]
     },
     "metadata": {
      "needs_background": "light"
     },
     "output_type": "display_data"
    }
   ],
   "source": [
    "# Visualize Question 5 results:\n",
    "\n",
    "stat_to_col = {\n",
    "    1: [0,1,0,1],\n",
    "    0: [1,1,0,1],\n",
    "    -1: [1,0,0,1]\n",
    "}\n",
    "\n",
    "# P is a sequence of test points\n",
    "def draw_points_in_polygon(P, p, ax, test_f, col_map):\n",
    "    colors = []\n",
    "    for pt in P:\n",
    "        status = test_f(pt, p)\n",
    "        #print(f'status {status}')\n",
    "        colors.append(col_map[status])\n",
    "    #print(f'colors {colors}')\n",
    "    \n",
    "    ax.scatter(P[:,0], P[:,1], c=colors, zorder=10)\n",
    "    ax.fill(p[:,0], p[:,1], facecolor = 'lightblue', edgecolor = 'blue', linewidth = 1)\n",
    "    \n",
    "test = lambda pt, pl: point_in_polygon_intersection(pt, pl)    \n",
    "fig, ax = plt.subplots(1,2, sharex=True, sharey=True)\n",
    "ax[0].set_aspect('equal')\n",
    "draw_points_in_polygon(np.array([[1,1], [0,1], [0.5,1]]), np.array([[0,0], [2,0], [1,2], [0,0]]), ax[0], test, stat_to_col)\n",
    "ax[1].set_aspect('equal')\n",
    "draw_points_in_polygon(np.array([[1,1], [0,1], [2.5,1]]), np.array([[0,0], [2,0], [2,2], [0,2], [0,0]]), ax[1], test, stat_to_col)\n",
    "\n",
    "plt.show()"
   ]
  },
  {
   "cell_type": "code",
   "execution_count": 8,
   "id": "2275c0a0",
   "metadata": {},
   "outputs": [
    {
     "name": "stdout",
     "output_type": "stream",
     "text": [
      "3\n",
      "7\n",
      "2\n"
     ]
    },
    {
     "data": {
      "text/plain": [
       "[<matplotlib.patches.Polygon at 0x12a683e40a0>]"
      ]
     },
     "execution_count": 8,
     "metadata": {},
     "output_type": "execute_result"
    },
    {
     "data": {
      "image/png": "[encoded data removed]",
      "text/plain": [
       "<Figure size 432x288 with 1 Axes>"
      ]
     },
     "metadata": {
      "needs_background": "light"
     },
     "output_type": "display_data"
    }
   ],
   "source": [
    "def test(r):\n",
    "    return r[0] + r[1]\n",
    "\n",
    "x = np.array([[1,2], [3,4], [1,1]])\n",
    "x2 = np.array([[1,2], [3,4], [0,-1], [1,2]])\n",
    "c = np.array([[1,0,0,1],[0,1,0,1], [1,1,0,1]])\n",
    "for k in x:\n",
    "    print(test(k))\n",
    "\n",
    "fig, ax = plt.subplots()    \n",
    "ax.scatter(x[:,0], x[:,1], c=c, zorder=10)\n",
    "ax.fill(x2[:,0], x2[:,1])"
   ]
  },
  {
   "cell_type": "code",
   "execution_count": 10,
   "id": "a4e649f6",
   "metadata": {},
   "outputs": [],
   "source": [
    "rd = 180/math.pi\n",
    "\n",
    "# Question 5 - Oriented angle technique\n",
    "def angle(a,b):\n",
    "    #print(f'angle between {a} {b} {math.acos(np.dot(a,b) / (np.linalg.norm(a)*np.linalg.norm(b)) )}')\n",
    "    return math.acos(np.dot(a,b) / (np.linalg.norm(a)*np.linalg.norm(b)) )\n",
    "\n",
    "# Given an vector x, returns the oriented angle represented by it\n",
    "def oriented_angle(x):\n",
    "    sign = 1 if x[1] >= 0 else -1\n",
    "    return sign*angle(np.array([1,0]), x)\n",
    "\n",
    "def oriented_angle(a,b):\n",
    "    return math.atan2(a[0]*b[1] - a[1]*b[0], a[0]*b[0] + a[1]*b[1])\n",
    "\n",
    "def point_in_polygon_rotation(P, p):\n",
    "    # Compute rotation index\n",
    "    k = 0\n",
    "    n = len(p)-1\n",
    "    for i in range(0,n):\n",
    "        Ppi = np.subtract(p[i], P)\n",
    "        Ppip1 = np.subtract(p[i+1], P)\n",
    "        print(f'Ppi {Ppi} Ppip1 {Ppip1}')\n",
    "        #print(f'individual oriented angles: from {P} to {p[i+1]} is {oriented_angle(Ppip1)*rd}, from {P} to {p[i]} {oriented_angle(Ppi)*rd}')\n",
    "        #or_angl = oriented_angle(Ppip1) - oriented_angle(Ppi)\n",
    "        or_angl = oriented_angle(Ppip1,Ppi)\n",
    "        print(f'oriented angle of {p[i]} {P} {p[i+1]}: {or_angl*rd}')\n",
    "        k += or_angl\n",
    "        print(f'new sum {k}')\n",
    "    k *= 1/(2*math.pi)\n",
    "    print(f'total k: {k}')\n",
    "    \n",
    "    # Point is inside polygon if the rotation index is not zero\n",
    "    return not math.isclose(k, 0)\n",
    "\n"
   ]
  },
  {
   "cell_type": "code",
   "execution_count": 11,
   "id": "787b25f4",
   "metadata": {},
   "outputs": [
    {
     "name": "stdout",
     "output_type": "stream",
     "text": [
      "Ppi [-1 -1] Ppip1 [ 1 -1]\n",
      "oriented angle of [0 0] [1 1] [2 0]: -90.0\n",
      "new sum -1.5707963267948966\n",
      "Ppi [ 1 -1] Ppip1 [0 1]\n",
      "oriented angle of [2 0] [1 1] [1 2]: -135.0\n",
      "new sum -3.9269908169872414\n",
      "Ppi [0 1] Ppip1 [-1 -1]\n",
      "oriented angle of [1 2] [1 1] [0 0]: -135.0\n",
      "new sum -6.283185307179586\n",
      "total k: -1.0\n"
     ]
    },
    {
     "data": {
      "image/png": "[encoded data removed]",
      "text/plain": [
       "<Figure size 432x288 with 2 Axes>"
      ]
     },
     "metadata": {
      "needs_background": "light"
     },
     "output_type": "display_data"
    }
   ],
   "source": [
    "col_map = {\n",
    "    True: [0,1,0,1],\n",
    "    False: [1,0,0,1]\n",
    "}\n",
    "\n",
    "test = lambda pt, pl: point_in_polygon_rotation(pt, pl)    \n",
    "fig, ax = plt.subplots(1,2, sharex=True, sharey=True)\n",
    "ax[0].set_aspect('equal')\n",
    "draw_points_in_polygon(np.array([[1,1]]), np.array([[0,0], [2,0], [1,2], [0,0]]), ax[0], test, col_map)"
   ]
  },
  {
   "cell_type": "code",
   "execution_count": null,
   "id": "6ca7ab34",
   "metadata": {},
   "outputs": [],
   "source": []
  }
 ],
 "metadata": {
  "kernelspec": {
   "display_name": "Python 3 (ipykernel)",
   "language": "python",
   "name": "python3"
  },
  "language_info": {
   "codemirror_mode": {
    "name": "ipython",
    "version": 3
   },
   "file_extension": ".py",
   "mimetype": "text/x-python",
   "name": "python",
   "nbconvert_exporter": "python",
   "pygments_lexer": "ipython3",
   "version": "3.9.5"
  }
 },
 "nbformat": 4,
 "nbformat_minor": 5
}
