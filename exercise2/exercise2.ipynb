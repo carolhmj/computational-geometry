{
 "cells": [
  {
   "cell_type": "code",
   "execution_count": 125,
   "id": "f72fb94d",
   "metadata": {},
   "outputs": [],
   "source": [
    "import random\n",
    "import math\n",
    "import timeit\n",
    "import numpy as np\n",
    "import matplotlib.pyplot as plt\n",
    "from matplotlib import collections as mc\n",
    "from matplotlib import tri, cm"
   ]
  },
  {
   "cell_type": "code",
   "execution_count": 2,
   "id": "a1d222e4",
   "metadata": {},
   "outputs": [
    {
     "name": "stdout",
     "output_type": "stream",
     "text": [
      "pseudoangles: [1.0, 3.0, 5.0, 7.0, 0.75, 1.25]\n"
     ]
    },
    {
     "data": {
      "image/png": "[encoded data removed]",
      "text/plain": [
       "<Figure size 432x288 with 2 Axes>"
      ]
     },
     "metadata": {
      "needs_background": "light"
     },
     "output_type": "display_data"
    }
   ],
   "source": [
    "# Question 1: Pseudo-angle over square\n",
    "def square_pseudo_angle(v):\n",
    "    if v[1] > 0:\n",
    "        if v[0] > 0:\n",
    "            a = v[1]/v[0]\n",
    "            if a >= 1:\n",
    "                return v[1]+1-(1/a)\n",
    "            else:\n",
    "                return a\n",
    "        else:\n",
    "            return 4 - square_pseudo_angle([-v[0], v[1]])\n",
    "    else:\n",
    "        return 8 - square_pseudo_angle([v[0], -v[1]])\n",
    "\n",
    "\n",
    "# Returns the pseudo angle between vectors a and b\n",
    "def square_pseudo_angle_between(a,b):\n",
    "    return square_pseudo_angle(b)-square_pseudo_angle(a)    \n",
    "    \n",
    "def draw_points_over_square(P, ax):\n",
    "    pseudoangles = []\n",
    "    for p in P:\n",
    "        pangle = square_pseudo_angle(p)\n",
    "        pseudoangles.append(pangle)\n",
    "        plt.annotate(f'{pangle:.2f}', [p[0]+0.05, p[1]+0.05])\n",
    "    print(f'pseudoangles: {pseudoangles}')\n",
    "    ax.scatter(P[:,0], P[:,1], zorder=10, c=pseudoangles)\n",
    "    ax.fill([1,-1,-1,1], [1,1,-1,-1], facecolor = 'lightblue', edgecolor = 'blue', linewidth = 1)\n",
    "\n",
    "fig, ax = plt.subplots()\n",
    "ax.set_aspect('equal')\n",
    "\n",
    "pts = np.array([[1,1], [-1,1], [-1,-1], [1,-1], [1, 0.75], [0.75,1]])\n",
    "#pts = np.array([[0.75,1]])\n",
    "draw_points_over_square(pts, ax) \n",
    "ax.plot(pts[0:2,0], pts[0:2,1], linestyle='--', c='red')\n",
    "between = square_pseudo_angle_between(pts[0,:], pts[1,:])\n",
    "plt.annotate('pseudo angle between points: ' + str(between), [pts[1,0]+0.2, pts[0,1] + 0.12], annotation_clip=False, color='red')\n",
    "\n",
    "plt.colorbar(cm.ScalarMappable(norm=plt.Normalize(vmin=0, vmax=8)))\n",
    "plt.show()"
   ]
  },
  {
   "cell_type": "code",
   "execution_count": 129,
   "id": "3b708d1b",
   "metadata": {},
   "outputs": [
    {
     "data": {
      "image/png": "[encoded data removed]",
      "text/plain": [
       "<Figure size 432x288 with 2 Axes>"
      ]
     },
     "metadata": {
      "needs_background": "light"
     },
     "output_type": "display_data"
    },
    {
     "name": "stdout",
     "output_type": "stream",
     "text": [
      "Average time to sort using square pseudo angle: 0.004371700000774581\n",
      "Average time to sort using cosine pseudo angle: 0.027907699999559554\n"
     ]
    }
   ],
   "source": [
    "# Question 2: More pseudo angles\n",
    "def pseudo_angle_dot(a,b):\n",
    "    return 1 - (np.dot(a,b) / (np.linalg.norm(a)*np.linalg.norm(b))) \n",
    "\n",
    "fig, ax = plt.subplots(2,1, sharex=True, sharey=True)\n",
    "for a in ax:\n",
    "    a.set_aspect('equal')\n",
    "fig.tight_layout()\n",
    "\n",
    "# Get n points randomly distributed on a unit square    \n",
    "def get_pts_on_sqr(n):\n",
    "    pts = []\n",
    "    for i in range(0,n):\n",
    "        a = random.uniform(-1,1)\n",
    "        sign = random.choice([1,-1])\n",
    "        if random.choice([True, False]):\n",
    "            pts.append([sign,a])\n",
    "        else:\n",
    "            pts.append([a,sign])\n",
    "    return np.array(pts)\n",
    "\n",
    "\n",
    "def order_by_pseudo_angle_and_plot(pts, f, ax, title):\n",
    "    ordered = sorted(pts, key=f)\n",
    "    for (i, p) in enumerate(ordered):\n",
    "        ax.text(p[0], p[1], i, backgroundcolor='gray', color='white')\n",
    "    ax.fill([1,-1,-1,1], [1,1,-1,-1], facecolor = 'lightblue', edgecolor = 'blue', linewidth = 1)\n",
    "    ax.text(2,0,title)\n",
    "    \n",
    "pts = get_pts_on_sqr(5)\n",
    "order_by_pseudo_angle_and_plot(pts, lambda pt: square_pseudo_angle(pt), ax[0], 'Ordering by square pseudo angle')\n",
    "order_by_pseudo_angle_and_plot(pts, lambda pt: pseudo_angle_dot(np.array([0,1]), pt), ax[1], 'Ordering by 1 minus cosine')\n",
    "plt.show()\n",
    "\n",
    "pts = get_pts_on_sqr(100)\n",
    "\n",
    "time_square = timeit.timeit(lambda: sorted(pts, key=lambda pt: square_pseudo_angle(pt)), number=10)\n",
    "time_cos = timeit.timeit(lambda: sorted(pts, key=lambda pt: pseudo_angle_dot(np.array([0,1]), pt)), number=10)\n",
    "\n",
    "print(f'Average time to sort using square pseudo angle: {time_square}')\n",
    "print(f'Average time to sort using cosine pseudo angle: {time_cos}')"
   ]
  },
  {
   "cell_type": "code",
   "execution_count": 130,
   "id": "923d2526",
   "metadata": {},
   "outputs": [
    {
     "name": "stdout",
     "output_type": "stream",
     "text": [
      "Operations with random vectors\n",
      "[0.51 0.79] + [0.91 0.04] = [1.42 0.83]\n",
      "[0.51 0.79] - [0.91 0.04] = [-0.4   0.75]\n",
      "[0.51 0.79] . [0.91 0.04] = 0.49\n",
      "Operation with colinear vectors\n",
      "[1 1] + [2 2] = [3 3]\n",
      "[1 1] - [2 2] = [-1 -1]\n",
      "[1 1] . [2 2] = 4.00\n"
     ]
    }
   ],
   "source": [
    "# Question 3: Vector operations\n",
    "def vec_sum(a,b):\n",
    "    return np.array([a+b for [a,b] in zip(a,b)])\n",
    "\n",
    "def vec_subtract(a,b):\n",
    "    return np.array([a-b for [a,b] in zip(a,b)])\n",
    "\n",
    "def vec_dot(a,b):\n",
    "    return sum([a*b for [a,b] in zip(a,b)])\n",
    "\n",
    "\n",
    "np.set_printoptions(precision=2)\n",
    "# Show sum of two random vectors\n",
    "print('Operations with random vectors')\n",
    "a = np.array([random.random(), random.random()])\n",
    "b = np.array([random.random(), random.random()])\n",
    "c = vec_sum(a,b)\n",
    "print(f'{a} + {b} = {c}')\n",
    "d = vec_subtract(a,b)\n",
    "print(f'{a} - {b} = {d}')\n",
    "e = vec_dot(a,b)\n",
    "print(f'{a} . {b} = {e:.2f}')\n",
    "\n",
    "print('Operation with colinear vectors')\n",
    "a = np.array([1,1])\n",
    "b = np.array([2,2])\n",
    "\n",
    "c = vec_sum(a,b)\n",
    "print(f'{a} + {b} = {c}')\n",
    "d = vec_subtract(a,b)\n",
    "print(f'{a} - {b} = {d}')\n",
    "e = vec_dot(a,b)\n",
    "print(f'{a} . {b} = {e:.2f}')"
   ]
  },
  {
   "cell_type": "code",
   "execution_count": 6,
   "id": "afe4e323",
   "metadata": {},
   "outputs": [],
   "source": [
    "# Question 4: Cross product\n",
    "\n",
    "# Receives two two-dimensional vectors, a and b, interpreted as three-dimensional vectors lying on the XY plane.\n",
    "# Returns the cross product between them\n",
    "def cross(a,b):\n",
    "    return a[0]*b[1] - a[1]*b[0]\n",
    "\n",
    "# Receives two line segments, ab and cd, on the XY plane and returns if they intercept or not\n",
    "def intersect(a,b,c,d):\n",
    "    ab = np.subtract(b, a)\n",
    "    ac = np.subtract(c, a)\n",
    "    ad = np.subtract(d, a)\n",
    "    \n",
    "    cd = np.subtract(d, c)\n",
    "    ca = np.subtract(a, c)\n",
    "    cb = np.subtract(b, c)\n",
    "    \n",
    "    p1 = cross(ab, ac) * cross(ab, ad)\n",
    "    p2 = cross(cd, ca) * cross(cd, cb)\n",
    "    \n",
    "    return p1 < 0 and p2 < 0\n",
    "\n",
    "# Receives three points, a, b and c, on the XY plane, and returns the oriented area of their parallelogram\n",
    "def oriented_area(a,b,c):\n",
    "    o = np.array([0,0])\n",
    "    \n",
    "    oa = np.subtract(a,o)\n",
    "    ob = np.subtract(b,o)\n",
    "    oc = np.subtract(c,o)\n",
    "    \n",
    "    return 0.5 * (cross(oa, ob) + cross(ob, oc) + cross(oc, oa))"
   ]
  },
  {
   "cell_type": "code",
   "execution_count": 136,
   "id": "842d1d07",
   "metadata": {},
   "outputs": [
    {
     "data": {
      "image/png": "[encoded data removed]",
      "text/plain": [
       "<Figure size 432x288 with 1 Axes>"
      ]
     },
     "metadata": {
      "needs_background": "light"
     },
     "output_type": "display_data"
    }
   ],
   "source": [
    "# Visualize Question 4 results:\n",
    "\n",
    "# Line intersection\n",
    "\n",
    "# Returns color c1 if ab and cd intersect, and color c2 otherwise\n",
    "def get_color(a, b, c, d, c1, c2):\n",
    "    return c1 if intersect(a, b, c, d) else c2\n",
    "\n",
    "a1 = np.array([0,0])\n",
    "a2 = np.array([1,1])\n",
    "\n",
    "b1 = np.array([1,0])\n",
    "b2 = np.array([0,1])\n",
    "\n",
    "c1 = np.array([0,-1])\n",
    "c2 = np.array([1,-1])\n",
    "\n",
    "a = np.array([a1,a2]).reshape((-1,2))\n",
    "b = np.array([b1,b2]).reshape((-1,2))\n",
    "c = np.array([c1,c2]).reshape((-1,2))\n",
    "\n",
    "# Show line segments that intersect with a as red, black otherwise \n",
    "lines = [a, b, c]\n",
    "int_col = [1,0,0,1]\n",
    "nint_col = [0,0,0,1]\n",
    "\n",
    "colors = np.array([int_col, get_color(a1,a2,b1,b2,int_col,nint_col), get_color(a1,a2,c1,c2,int_col,nint_col)])\n",
    "\n",
    "lc = mc.LineCollection(lines, colors=colors)\n",
    "\n",
    "fig, ax = plt.subplots()\n",
    "\n",
    "ax.add_collection(lc)\n",
    "ax.autoscale()\n",
    "ax.margins(0.1)\n",
    "\n",
    "#test_lines = []\n",
    "#n_test = 25\n",
    "#for i in range(n_test):\n",
    "#    test_lines.append(np.random.randn(2,2)*50)\n",
    "    \n",
    "#for i in range(n_test):\n",
    "#    line = test_lines[i]\n",
    "#    intersect_count = 0\n",
    "#    for j in range(n_test):\n",
    "#        test = test_lines[j]\n",
    "#        if intersect(line[0], line[1], test[0], test[1]):\n",
    "#            intersect_count += 1\n",
    "#    col = 'red' if intersect_count > 1 else 'black'\n",
    "#    ax.plot(line[:,0], line[:,1], color=col)\n",
    "        "
   ]
  },
  {
   "cell_type": "code",
   "execution_count": 8,
   "id": "17124b85",
   "metadata": {},
   "outputs": [
    {
     "data": {
      "image/png": "[encoded data removed]",
      "text/plain": [
       "<Figure size 432x288 with 1 Axes>"
      ]
     },
     "metadata": {
      "needs_background": "light"
     },
     "output_type": "display_data"
    }
   ],
   "source": [
    "# Oriented area\n",
    "a = np.array([1,0])\n",
    "b = np.array([2,0.5])\n",
    "c = np.array([1,1])\n",
    "\n",
    "points = np.array([a, b, c]).reshape((3,-1))\n",
    "indices = [[0, 1, 2]]\n",
    "\n",
    "tris = tri.Triangulation(points[:,0], points[:,1], triangles=indices)\n",
    "\n",
    "plt.title(f'Triangle of oriented area {oriented_area(a,b,c)}')\n",
    "lines = plt.triplot(tris)"
   ]
  },
  {
   "cell_type": "code",
   "execution_count": 83,
   "id": "6a7820c2",
   "metadata": {},
   "outputs": [],
   "source": [
    "# Question 5: Point in polygon - Ray technique\n",
    "\n",
    "# Intersection algorithm and rotation index algorithm\n",
    "\n",
    "# Finds the point of intersection between two lines p1p2 and p3p4\n",
    "def line_intersection(p1, p2, p3, p4):\n",
    "    #print(f'line intersection of {p1} {p2} {p3} {p4}')\n",
    "    [x1,y1] = [p1[0], p1[1]]\n",
    "    [x2,y2] = [p2[0], p2[1]]\n",
    "    [x3,y3] = [p3[0], p3[1]]\n",
    "    [x4,y4] = [p4[0], p4[1]]\n",
    "    \n",
    "    D = (x1-x2)*(y3-y4) - (y1-y2)*(x3-x4)\n",
    "    \n",
    "    x = ( (x1*y2-y1*x2)*(x3-x4) - (x1-x2)*(x3*y4-y3*x4) ) / D\n",
    "    y = ( (x1*y2-y1*x2)*(y3-y4) - (y1-y2)*(x3*y4-y3*x4) ) / D\n",
    "    \n",
    "    return np.array([x,y])\n",
    "\n",
    "# Returns distance between two points\n",
    "def distance(p1, p2):\n",
    "    [x1,y1] = [p1[0], p1[1]]\n",
    "    [x2,y2] = [p2[0], p2[1]]\n",
    "    \n",
    "    return math.hypot(x2-x1, y2-y1) \n",
    "\n",
    "# Check if point lies on the line\n",
    "def point_in_line(P, a, b):\n",
    "    return math.isclose(distance(a, P) + distance(P, b), distance(a, b))\n",
    "\n",
    "# Receives a point P and a sequence of points p = [p_0, p_1, ... , p_n, p_(n+1)], that forms a closed polygon,\n",
    "# where p_(n+1) == p_1. Returns -1 if outside, 0 if in frontier, 1 if inside\n",
    "def point_in_polygon_intersection(P, p):\n",
    "    n = len(p)-1\n",
    "    N = 0 # Number of intersections\n",
    "    [x0, y0] = [P[0], P[1]]\n",
    "    Pn = np.add(P, [1,0]) # We will test the horizontal line that passes by P\n",
    "    for i in range(0,n):\n",
    "        xi = p[i,0]\n",
    "        yi = p[i,1]\n",
    "        xip1 = p[i+1,0]\n",
    "        yip1 = p[i+1,1]\n",
    "    \n",
    "        if not math.isclose(yi, yip1): # Is not an horizontal line\n",
    "            [x, y] = line_intersection(p[i], p[i+1], P, Pn) # Check the intersection between test line and one line of the poly\n",
    "            if math.isclose(x, x0): # If the inter point is the same as the test point, itself lies on the polygon frontier\n",
    "                return 0\n",
    "            elif x > x0 and point_in_line([x,y], p[i],p[i+1]):\n",
    "                N += 1\n",
    "        elif point_in_line(P, p[i], p[i+1]):\n",
    "            return 0\n",
    "    odd = N % 2 == 1\n",
    "    return 1 if odd else -1"
   ]
  },
  {
   "cell_type": "code",
   "execution_count": 84,
   "id": "c3637576",
   "metadata": {},
   "outputs": [
    {
     "data": {
      "image/png": "[encoded data removed]",
      "text/plain": [
       "<Figure size 432x288 with 2 Axes>"
      ]
     },
     "metadata": {
      "needs_background": "light"
     },
     "output_type": "display_data"
    }
   ],
   "source": [
    "# Visualize Question 5 results:\n",
    "\n",
    "stat_to_col = {\n",
    "    1: [0,1,0,1],\n",
    "    0: [1,1,0,1],\n",
    "    -1: [1,0,0,1]\n",
    "}\n",
    "\n",
    "# P is a sequence of test points\n",
    "def draw_points_in_polygon(P, p, ax, test_f, col_map):\n",
    "    colors = []\n",
    "    for pt in P:\n",
    "        status = test_f(pt, p)\n",
    "        #print(f'status {status}')\n",
    "        colors.append(col_map[status])\n",
    "    #print(f'colors {colors}')\n",
    "    \n",
    "    ax.scatter(P[:,0], P[:,1], c=colors, zorder=10)\n",
    "    ax.fill(p[:,0], p[:,1], facecolor = 'lightblue', edgecolor = 'blue', linewidth = 1)\n",
    "    \n",
    "test = lambda pt, pl: point_in_polygon_intersection(pt, pl)    \n",
    "fig, ax = plt.subplots(1,2, sharex=True, sharey=True)\n",
    "ax[0].set_aspect('equal')\n",
    "draw_points_in_polygon(np.array([[1,1], [0,1], [0.5,1]]), np.array([[0,0], [2,0], [1,2], [0,0]]), ax[0], test, stat_to_col)\n",
    "ax[1].set_aspect('equal')\n",
    "draw_points_in_polygon(np.array([[1,1], [0,1], [2.5,1]]), np.array([[0,0], [2,0], [2,2], [0,2], [0,0]]), ax[1], test, stat_to_col)\n",
    "\n",
    "#plt.show()"
   ]
  },
  {
   "cell_type": "code",
   "execution_count": 140,
   "id": "8919ef5f",
   "metadata": {},
   "outputs": [],
   "source": [
    "# Receives a point P and a sequence of points p = [p_0, p_1, ... , p_n, p_(n+1)], that forms a closed polygon,\n",
    "# where p_(n+1) == p_1. Returns -1 if outside, 0 if in frontier, 1 if inside\n",
    "def point_in_polygon_intersection_visual(P, p, ax):\n",
    "    n = len(p)-1\n",
    "    #print(n)\n",
    "    N = 0 # Number of intersections\n",
    "    [x0, y0] = [P[0], P[1]]\n",
    "    #print(f'x0 {x0} y0 {y0}')\n",
    "    Pn = np.add(P, [1,0]) # We will test the horizontal line that passes by P\n",
    "    ax.plot([x0, x0+10], [y0, y0], linestyle='--', color='gray', zorder=10)\n",
    "    for i in range(0,n):\n",
    "        #print(f'current N: {N}')\n",
    "        xi = p[i,0]\n",
    "        yi = p[i,1]\n",
    "        xip1 = p[i+1,0]\n",
    "        yip1 = p[i+1,1]\n",
    "        #print(f'check intersection with lines {p[i]} {p[i+1]}')\n",
    "        line_col = 'gray'\n",
    "        if not math.isclose(yi, yip1): # Is not an horizontal line\n",
    "            line_col = 'black'\n",
    "            #print(f'{i} is from {p[i]} to {p[i+1]}')\n",
    "            [x, y] = line_intersection(p[i], p[i+1], P, Pn) # Check the intersection between test line and one line of the poly\n",
    "            #print(f'line intersection: {x} {y}')\n",
    "            dot_col = 'red'\n",
    "            if math.isclose(x, x0): # If the inter point is the same as the test point, itself lies on the polygon frontier\n",
    "                return 0\n",
    "            elif x > x0 and point_in_line([x,y], p[i],p[i+1]):\n",
    "                dot_col = 'green'\n",
    "                N += 1\n",
    "            ax.text(x, y, i, backgroundcolor=dot_col, color='white', zorder=10)\n",
    "        elif point_in_line(P, p[i], p[i+1]):\n",
    "            return 0\n",
    "        ax.plot([xi, xip1], [yi, yip1], color=line_col)\n",
    "        ax.text((xi+xip1)/2, (yi+yip1)/2, i)\n",
    "    #print(f'N {N}')\n",
    "    odd = N % 2 == 1\n",
    "    return 1 if odd else -1"
   ]
  },
  {
   "cell_type": "code",
   "execution_count": 141,
   "id": "bdf257ca",
   "metadata": {},
   "outputs": [
    {
     "data": {
      "text/plain": [
       "<matplotlib.collections.PathCollection at 0x25d1f157070>"
      ]
     },
     "execution_count": 141,
     "metadata": {},
     "output_type": "execute_result"
    },
    {
     "data": {
      "image/png": "[encoded data removed]",
      "text/plain": [
       "<Figure size 432x288 with 1 Axes>"
      ]
     },
     "metadata": {
      "needs_background": "light"
     },
     "output_type": "display_data"
    }
   ],
   "source": [
    "# Question 6: Polygon formed by points\n",
    "\n",
    "pl = np.array([[2,1],[4,1],[6,1],[9,2],[9,4],[7,6],[7.5,7],[3,7],[3.5,5],[0,3],[2,1]])\n",
    "pt = np.array(np.average(pl, axis=0))\n",
    "#print(f'{pt}')\n",
    "\n",
    "fig, ax = plt.subplots(1,1, sharex=True, sharey=True)\n",
    "test = lambda pt, pl: point_in_polygon_intersection_visual(pt, pl, ax)    \n",
    "ax.set_aspect('equal')\n",
    "#draw_points_in_polygon(pt, pl, ax, test, stat_to_col)\n",
    "status = point_in_polygon_intersection_visual(pt,pl,ax)\n",
    "ax.scatter(pt[0], pt[1], color=stat_to_col[status])"
   ]
  },
  {
   "cell_type": "code",
   "execution_count": 96,
   "id": "a4e649f6",
   "metadata": {},
   "outputs": [],
   "source": [
    "rd = 180/math.pi\n",
    "\n",
    "# Question 5 - Oriented angle technique\n",
    "def angle(a,b):\n",
    "    return math.acos(np.dot(a,b) / (np.linalg.norm(a)*np.linalg.norm(b)) )\n",
    "\n",
    "# Given an vector x, returns the oriented angle represented by it\n",
    "def oriented_angle(x):\n",
    "    sign = 1 if x[1] >= 0 else -1\n",
    "    return sign*angle(np.array([1,0]), x)\n",
    "\n",
    "def oriented_angle(a,b):\n",
    "    return math.atan2(a[0]*b[1] - a[1]*b[0], a[0]*b[0] + a[1]*b[1])\n",
    "\n",
    "def point_in_polygon_rotation(P, p):\n",
    "    # Compute rotation index\n",
    "    k = 0\n",
    "    n = len(p)-1\n",
    "    for i in range(0,n):\n",
    "        Ppi = np.subtract(p[i], P)\n",
    "        Ppip1 = np.subtract(p[i+1], P)\n",
    "        or_angl = oriented_angle(Ppi, Ppip1)\n",
    "        k += or_angl\n",
    "    k *= 1/(2*math.pi)\n",
    "    \n",
    "    # Point is inside polygon if the rotation index is not zero\n",
    "    return not math.isclose(k, 0, abs_tol=1e-5)\n",
    "\n"
   ]
  },
  {
   "cell_type": "code",
   "execution_count": 13,
   "id": "787b25f4",
   "metadata": {
    "scrolled": true
   },
   "outputs": [
    {
     "data": {
      "image/png": "[encoded data removed]",
      "text/plain": [
       "<Figure size 432x288 with 2 Axes>"
      ]
     },
     "metadata": {
      "needs_background": "light"
     },
     "output_type": "display_data"
    }
   ],
   "source": [
    "col_map = {\n",
    "    True: [0,1,0,1],\n",
    "    False: [1,0,0,1]\n",
    "}\n",
    "\n",
    "test = lambda pt, pl: point_in_polygon_rotation(pt, pl)    \n",
    "fig, ax = plt.subplots(1,2, sharex=True, sharey=True)\n",
    "ax[0].set_aspect('equal')\n",
    "draw_points_in_polygon(np.array([[1,1], [0,1], [0.5,1]]), np.array([[0,0], [2,0], [1,2], [0,0]]), ax[0], test, col_map)\n",
    "ax[1].set_aspect('equal')\n",
    "draw_points_in_polygon(np.array([[0,1],[1,1],[3,1]]), np.array([[0,0], [2,0], [2,2], [0,2], [0,0]]), ax[1], test, col_map)"
   ]
  },
  {
   "cell_type": "code",
   "execution_count": 119,
   "id": "6ca7ab34",
   "metadata": {},
   "outputs": [
    {
     "data": {
      "image/png": "[encoded data removed]",
      "text/plain": [
       "<Figure size 432x288 with 1 Axes>"
      ]
     },
     "metadata": {
      "needs_background": "light"
     },
     "output_type": "display_data"
    }
   ],
   "source": [
    "# Question 6: Polygon formed by points\n",
    "pl = np.array([[2,1],[4,1],[6,1],[9,2],[9,4],[7,6],[8.5,7],[1,7],[3.5,5],[0,3],[2,1]])\n",
    "pt = np.array(np.average(pl, axis=0))\n",
    "\n",
    "fig, ax = plt.subplots()\n",
    "\n",
    "def point_in_polygon_rotation_visual(P, p, ax):\n",
    "    # Compute rotation index\n",
    "    k = 0\n",
    "    n = len(p)-1\n",
    "    for i in range(0,n):\n",
    "        #print(f'i: {i}')\n",
    "        Ppi = np.subtract(p[i], P)\n",
    "        Ppip1 = np.subtract(p[i+1], P)\n",
    "        #print(f'plot x: {[P[0], Ppi[0]]}, y:{[P[1], Ppi[1]]}')\n",
    "        ax.plot([P[0], p[i][0]], [P[1], p[i][1]], linestyle='--', zorder=10)\n",
    "        ax.plot([P[0], p[i][0]], [P[1], p[i][1]], linestyle='--', zorder=10)\n",
    "        or_angl = oriented_angle(Ppi, Ppip1)\n",
    "        ax.text((p[i][0] + p[i+1][0])/2, (p[i][1] + p[i+1][1])/2, f'{or_angl*rd:.2f}°', zorder=10, backgroundcolor='gray', color='white')\n",
    "        k += or_angl\n",
    "    k *= 1/(2*math.pi)\n",
    "    ax.set_title(f'Total sum of angles: {k*rd}°')\n",
    "    # Point is inside polygon if the rotation index is not zero\n",
    "    return not math.isclose(k, 0, abs_tol=1e-5)\n",
    "\n",
    "status = point_in_polygon_rotation_visual(pt, pl, ax)\n",
    "\n",
    "ax.scatter(pt[0], pt[1], color=col_map[status], zorder=11)\n",
    "ax.fill(pl[:,0], pl[:,1], facecolor = 'lightblue', edgecolor = 'blue', linewidth = 1)\n",
    "\n",
    "plt.show()"
   ]
  },
  {
   "cell_type": "code",
   "execution_count": null,
   "id": "4b86ca21",
   "metadata": {},
   "outputs": [],
   "source": []
  },
  {
   "cell_type": "code",
   "execution_count": null,
   "id": "d2732ae8",
   "metadata": {},
   "outputs": [],
   "source": []
  }
 ],
 "metadata": {
  "kernelspec": {
   "display_name": "Python 3 (ipykernel)",
   "language": "python",
   "name": "python3"
  },
  "language_info": {
   "codemirror_mode": {
    "name": "ipython",
    "version": 3
   },
   "file_extension": ".py",
   "mimetype": "text/x-python",
   "name": "python",
   "nbconvert_exporter": "python",
   "pygments_lexer": "ipython3",
   "version": "3.9.6"
  }
 },
 "nbformat": 4,
 "nbformat_minor": 5
}
