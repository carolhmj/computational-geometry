{
 "cells": [
  {
   "cell_type": "code",
   "execution_count": 4,
   "id": "f72fb94d",
   "metadata": {},
   "outputs": [],
   "source": [
    "import math\n",
    "import numpy as np\n",
    "import matplotlib.pyplot as plt\n",
    "from matplotlib import collections as mc\n",
    "from matplotlib import tri"
   ]
  },
  {
   "cell_type": "code",
   "execution_count": 43,
   "id": "afe4e323",
   "metadata": {},
   "outputs": [],
   "source": [
    "# Question 4: Cross product\n",
    "\n",
    "# Receives two two-dimensional vectors, a and b, interpreted as three-dimensional vectors lying on the XY plane.\n",
    "# Returns the cross product between them\n",
    "def cross(a,b):\n",
    "    return a[0]*b[1] - a[1]*b[0]\n",
    "\n",
    "# Receives two line segments, ab and cd, on the XY plane and returns if they intercept or not\n",
    "def intersect(a,b,c,d):\n",
    "    ab = np.subtract(b, a)\n",
    "    ac = np.subtract(c, a)\n",
    "    ad = np.subtract(d, a)\n",
    "    \n",
    "    cd = np.subtract(d, c)\n",
    "    ca = np.subtract(a, c)\n",
    "    cb = np.subtract(b, c)\n",
    "    \n",
    "    p1 = cross(ab, ac) * cross(ab, ad)\n",
    "    p2 = cross(cd, ca) * cross(cd, cb)\n",
    "    \n",
    "    return p1 < 0 and p2 < 0\n",
    "\n",
    "# Receives three points, a, b and c, on the XY plane, and returns the oriented area of their parallelogram\n",
    "def oriented_area(a,b,c):\n",
    "    o = np.array([0,0])\n",
    "    \n",
    "    oa = np.subtract(a,o)\n",
    "    ob = np.subtract(b,o)\n",
    "    oc = np.subtract(c,o)\n",
    "    \n",
    "    return 0.5 * (cross(oa, ob) + cross(ob, oc) + cross(oc, oa))"
   ]
  },
  {
   "cell_type": "code",
   "execution_count": 24,
   "id": "842d1d07",
   "metadata": {},
   "outputs": [
    {
     "data": {
      "image/png": "[encoded data removed]",
      "text/plain": [
       "<Figure size 432x288 with 1 Axes>"
      ]
     },
     "metadata": {
      "needs_background": "light"
     },
     "output_type": "display_data"
    }
   ],
   "source": [
    "# Visualize Question 4 results:\n",
    "\n",
    "# Line intersection\n",
    "\n",
    "# Returns color c1 if ab and cd intersect, and color c2 otherwise\n",
    "def get_color(a, b, c, d, c1, c2):\n",
    "    return c1 if intersect(a, b, c, d) else c2\n",
    "\n",
    "a1 = np.array([0,0])\n",
    "a2 = np.array([1,1])\n",
    "\n",
    "b1 = np.array([1,0])\n",
    "b2 = np.array([0,1])\n",
    "\n",
    "c1 = np.array([0,-1])\n",
    "c2 = np.array([1,-1])\n",
    "\n",
    "a = np.array([a1,a2]).reshape((-1,2))\n",
    "b = np.array([b1,b2]).reshape((-1,2))\n",
    "c = np.array([c1,c2]).reshape((-1,2))\n",
    "\n",
    "# Show line segments that intersect with a as red, black otherwise \n",
    "lines = [a, b, c]\n",
    "int_col = [1,0,0,1]\n",
    "nint_col = [0,0,0,1]\n",
    "\n",
    "colors = np.array([int_col, get_color(a1,a2,b1,b2,int_col,nint_col), get_color(a1,a2,c1,c2,int_col,nint_col)])\n",
    "\n",
    "lc = mc.LineCollection(lines, colors=colors)\n",
    "\n",
    "fig, ax = plt.subplots()\n",
    "\n",
    "ax.add_collection(lc)\n",
    "ax.autoscale()\n",
    "ax.margins(0.1)"
   ]
  },
  {
   "cell_type": "code",
   "execution_count": 45,
   "id": "17124b85",
   "metadata": {},
   "outputs": [
    {
     "data": {
      "image/png": "[encoded data removed]",
      "text/plain": [
       "<Figure size 432x288 with 1 Axes>"
      ]
     },
     "metadata": {
      "needs_background": "light"
     },
     "output_type": "display_data"
    }
   ],
   "source": [
    "# Oriented area\n",
    "a = np.array([1,0])\n",
    "b = np.array([2,0.5])\n",
    "c = np.array([1,1])\n",
    "\n",
    "points = np.array([a, b, c]).reshape((3,-1))\n",
    "indices = [[0, 1, 2]]\n",
    "\n",
    "tris = tri.Triangulation(points[:,0], points[:,1], triangles=indices)\n",
    "\n",
    "plt.title(f'Triangle of oriented area {oriented_area(a,b,c)}')\n",
    "lines = plt.triplot(tris)"
   ]
  },
  {
   "cell_type": "code",
   "execution_count": 36,
   "id": "6a7820c2",
   "metadata": {},
   "outputs": [],
   "source": [
    "# Question 5: Point in polygon\n",
    "\n",
    "# Intersection algorithm and rotation index algorithm\n",
    "\n",
    "# Finds the point of intersection between two lines p1p2 and p3p4\n",
    "def line_intersection(p1, p2, p3, p4):\n",
    "    [x1,y1] = [p1[0,0], p1[0,1]]\n",
    "    [x2,y2] = [p2[0,0], p2[0,1]]\n",
    "    [x3,y3] = [p3[0,0], p3[0,1]]\n",
    "    [x4,y4] = [p4[0,0], p4[0,1]]\n",
    "    \n",
    "    D = (x1-x2)*(y3-y4) - (y1-y2)*(x3-x4)\n",
    "    \n",
    "    x = ( (x1*y2-y1*x2)*(x3-x4) - (x1-x2)*(x3*y4-y3*x4) ) / D\n",
    "    y = ( (x1*y2-y1*x2)*(y3-y4) - (y1-y2)*(x3*y4-y3*x4) ) / D\n",
    "    \n",
    "    return np.array([x,y])\n",
    "\n",
    "# Returns distance between two points\n",
    "def distance(p1, p2):\n",
    "    [x1,y1] = [p1[0,0], p1[0,1]]\n",
    "    [x2,y2] = [p2[0,0], p2[0,1]]\n",
    "    \n",
    "    return math.hypot(x2-x1, y2-y1) \n",
    "\n",
    "# Check if point lies on the line\n",
    "def point_in_line(P, a, b):\n",
    "    return math.isclose(distance(a, P) + distance(P, b), distance(a, b))\n",
    "\n",
    "# Receives a point P and a sequence of points p = [p_0, p_1, ... , p_n, p_(n+1)], that forms a closed polygon,\n",
    "# where p_(n+1) == p_1. Returns -1 if outside, 0 if in frontier, 1 if inside\n",
    "def point_in_polygon_intersection(P, p):\n",
    "    n = len(p)-1\n",
    "    print(n)\n",
    "    N = 0 # Number of intersections\n",
    "    [x0, y0] = [P[0,0], P[0,1]] \n",
    "    Pn = np.add(P, [1,0]) # We will test the horizontal line that passes by P\n",
    "    for i in range(0,n):\n",
    "        xi = p[i,0]\n",
    "        yi = p[i,1]\n",
    "        xip1 = p[i+1,0]\n",
    "        yip1 = p[i+1,1]\n",
    "        \n",
    "        if not math.isclose(yi, yip1): # Is not an horizontal line\n",
    "            [x, y] = line_intersection(p[i], p[i+1], P, Pn) # Check the intersection between test line and one line of the poly\n",
    "            if math.isclose(x, x0): # If the inter point is the same as the test point, itself lies on the polygon frontier\n",
    "                return 0\n",
    "            elif x > x0 and y > min(xi, xip1):\n",
    "                N += 1\n",
    "        elif point_in_line(P, p[i], p[i+1]):\n",
    "            return 0\n",
    "    odd = N % 2 == 1\n",
    "    return 1 if odd else -1"
   ]
  },
  {
   "cell_type": "code",
   "execution_count": 39,
   "id": "c3637576",
   "metadata": {},
   "outputs": [
    {
     "name": "stdout",
     "output_type": "stream",
     "text": [
      "3\n",
      "status -1\n"
     ]
    },
    {
     "data": {
      "image/png": "[encoded data removed]",
      "text/plain": [
       "<Figure size 432x288 with 1 Axes>"
      ]
     },
     "metadata": {
      "needs_background": "light"
     },
     "output_type": "display_data"
    }
   ],
   "source": [
    "# Visualize Question 5 results:\n",
    "\n",
    "stat_to_fmt = {\n",
    "    1: 'go',\n",
    "    0: 'yo',\n",
    "    -1: 'ro'\n",
    "}\n",
    "\n",
    "def draw_point_in_polygon(P, p, ax):\n",
    "    status = point_in_polygon_intersection(P, p)\n",
    "    print(f'status {status}')\n",
    "    \n",
    "    ax.plot(P[0,0], P[0,1], stat_to_fmt[status])\n",
    "    ax.fill(p[:,0], p[:,1], facecolor = 'lightblue', edgecolor = 'blue', linewidth = 3)\n",
    "    \n",
    "    \n",
    "fig, ax = plt.subplots()    \n",
    "draw_point_in_polygon(np.matrix([[1,1]]), np.matrix([[0,0], [2,0], [1,2], [0,0]]), ax)\n",
    "\n",
    "plt.show()"
   ]
  },
  {
   "cell_type": "code",
   "execution_count": 25,
   "id": "2275c0a0",
   "metadata": {},
   "outputs": [
    {
     "name": "stdout",
     "output_type": "stream",
     "text": [
      "[[0 0]]\n",
      "0\n",
      "[[2 0]]\n",
      "0\n",
      "[[1 2]]\n",
      "2\n"
     ]
    }
   ],
   "source": [
    "p = np.matrix([[0,0], [2,0], [1,2], [0,0]])\n",
    "for i in range(0,3):\n",
    "    print(p[i])\n",
    "    x = p[i,1]\n",
    "    print(x)"
   ]
  },
  {
   "cell_type": "code",
   "execution_count": 6,
   "id": "a4e649f6",
   "metadata": {},
   "outputs": [
    {
     "data": {
      "text/plain": [
       "1"
      ]
     },
     "execution_count": 6,
     "metadata": {},
     "output_type": "execute_result"
    }
   ],
   "source": [
    "x"
   ]
  },
  {
   "cell_type": "code",
   "execution_count": null,
   "id": "787b25f4",
   "metadata": {},
   "outputs": [],
   "source": []
  }
 ],
 "metadata": {
  "kernelspec": {
   "display_name": "Python 3 (ipykernel)",
   "language": "python",
   "name": "python3"
  },
  "language_info": {
   "codemirror_mode": {
    "name": "ipython",
    "version": 3
   },
   "file_extension": ".py",
   "mimetype": "text/x-python",
   "name": "python",
   "nbconvert_exporter": "python",
   "pygments_lexer": "ipython3",
   "version": "3.9.5"
  }
 },
 "nbformat": 4,
 "nbformat_minor": 5
}
